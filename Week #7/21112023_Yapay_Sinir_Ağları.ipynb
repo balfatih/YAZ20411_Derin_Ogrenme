{
  "nbformat": 4,
  "nbformat_minor": 0,
  "metadata": {
    "colab": {
      "provenance": []
    },
    "kernelspec": {
      "name": "python3",
      "display_name": "Python 3"
    },
    "language_info": {
      "name": "python"
    }
  },
  "cells": [
    {
      "cell_type": "code",
      "execution_count": null,
      "metadata": {
        "colab": {
          "base_uri": "https://localhost:8080/"
        },
        "id": "rFAXX9UQMPH0",
        "outputId": "66215d76-8a79-4607-ef07-a8e4c6ad1969"
      },
      "outputs": [
        {
          "output_type": "stream",
          "name": "stdout",
          "text": [
            "Mounted at /gdrive\n"
          ]
        }
      ],
      "source": [
        "from google.colab import drive\n",
        "drive.mount('/gdrive')"
      ]
    },
    {
      "cell_type": "code",
      "source": [
        "import pandas as pd\n",
        "import seaborn as sns\n",
        "import numpy as np\n",
        "import matplotlib.pyplot as plt"
      ],
      "metadata": {
        "id": "xfooUC8vMcmG"
      },
      "execution_count": null,
      "outputs": []
    },
    {
      "cell_type": "code",
      "source": [
        "data = pd.read_csv('/gdrive/My Drive/YAZ20411/Customer_Churn_Analysis.csv')"
      ],
      "metadata": {
        "id": "fWrnzrIHMgnm"
      },
      "execution_count": null,
      "outputs": []
    },
    {
      "cell_type": "code",
      "source": [
        "import tensorflow as tf\n",
        "from sklearn.model_selection import train_test_split\n",
        "from sklearn.preprocessing import StandardScaler\n",
        "from sklearn.metrics import accuracy_score, precision_score, recall_score, f1_score, confusion_matrix, classification_report"
      ],
      "metadata": {
        "id": "ReBUfc65MRug"
      },
      "execution_count": null,
      "outputs": []
    },
    {
      "cell_type": "code",
      "source": [
        "data = data.drop(['RowNumber', 'CustomerId', 'Surname', 'Tenure', 'Complain', 'Satisfaction_Score', 'Card_Type'], axis=1)\n",
        "data['Geography'] = data['Geography'].astype('category')\n",
        "data['Gender'] = data['Gender'].astype('category')"
      ],
      "metadata": {
        "id": "NdgKYxCXMRxI"
      },
      "execution_count": null,
      "outputs": []
    },
    {
      "cell_type": "code",
      "source": [
        "encoded_data = pd.get_dummies(data, columns=['Geography', 'Gender'], drop_first=True)\n",
        "selected_features = encoded_data.drop(['Exited'], axis=1)\n",
        "target_variable = encoded_data['Exited']"
      ],
      "metadata": {
        "id": "dd0a8gjbMmoH"
      },
      "execution_count": null,
      "outputs": []
    },
    {
      "cell_type": "code",
      "source": [
        "scaler = StandardScaler()\n",
        "scaled_data = scaler.fit_transform(selected_features)"
      ],
      "metadata": {
        "id": "AhM0AYgJMqKR"
      },
      "execution_count": null,
      "outputs": []
    }
  ]
}