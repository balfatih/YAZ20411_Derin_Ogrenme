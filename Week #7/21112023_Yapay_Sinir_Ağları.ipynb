{
  "nbformat": 4,
  "nbformat_minor": 0,
  "metadata": {
    "colab": {
      "provenance": []
    },
    "kernelspec": {
      "name": "python3",
      "display_name": "Python 3"
    },
    "language_info": {
      "name": "python"
    }
  },
  "cells": [
    {
      "cell_type": "code",
      "execution_count": null,
      "metadata": {
        "colab": {
          "base_uri": "https://localhost:8080/"
        },
        "id": "rFAXX9UQMPH0",
        "outputId": "693ad054-337b-4df0-b654-bca95bb361ef"
      },
      "outputs": [
        {
          "output_type": "stream",
          "name": "stdout",
          "text": [
            "Mounted at /gdrive\n"
          ]
        }
      ],
      "source": [
        "from google.colab import drive\n",
        "drive.mount('/gdrive')"
      ]
    },
    {
      "cell_type": "code",
      "source": [
        "import pandas as pd\n",
        "import seaborn as sns\n",
        "import numpy as np\n",
        "import matplotlib.pyplot as plt"
      ],
      "metadata": {
        "id": "xfooUC8vMcmG"
      },
      "execution_count": null,
      "outputs": []
    },
    {
      "cell_type": "code",
      "source": [
        "data = pd.read_csv('/gdrive/My Drive/YAZ20411/Customer_Churn_Analysis.csv')"
      ],
      "metadata": {
        "id": "fWrnzrIHMgnm"
      },
      "execution_count": null,
      "outputs": []
    },
    {
      "cell_type": "code",
      "source": [
        "import tensorflow as tf\n",
        "from sklearn.model_selection import train_test_split\n",
        "from sklearn.preprocessing import StandardScaler\n",
        "from sklearn.metrics import accuracy_score, precision_score, recall_score, f1_score, confusion_matrix, classification_report"
      ],
      "metadata": {
        "id": "ReBUfc65MRug"
      },
      "execution_count": null,
      "outputs": []
    },
    {
      "cell_type": "code",
      "source": [
        "data = data.drop(['RowNumber', 'CustomerId', 'Surname', 'Tenure', 'Complain', 'Satisfaction_Score', 'Card_Type'], axis=1)\n",
        "data['Geography'] = data['Geography'].astype('category')\n",
        "data['Gender'] = data['Gender'].astype('category')"
      ],
      "metadata": {
        "id": "NdgKYxCXMRxI"
      },
      "execution_count": null,
      "outputs": []
    },
    {
      "cell_type": "code",
      "source": [
        "encoded_data = pd.get_dummies(data, columns=['Geography', 'Gender'], drop_first=True)\n",
        "selected_features = encoded_data.drop(['Exited'], axis=1)\n",
        "target_variable = encoded_data['Exited']"
      ],
      "metadata": {
        "id": "dd0a8gjbMmoH"
      },
      "execution_count": null,
      "outputs": []
    },
    {
      "cell_type": "code",
      "source": [
        "scaler = StandardScaler()\n",
        "scaled_data = scaler.fit_transform(selected_features)"
      ],
      "metadata": {
        "id": "AhM0AYgJMqKR"
      },
      "execution_count": null,
      "outputs": []
    },
    {
      "cell_type": "code",
      "source": [
        "X_train, X_test, y_train, y_test = train_test_split(selected_features, target_variable, test_size=0.2, random_state=42)"
      ],
      "metadata": {
        "id": "XOFxiVA2edCg"
      },
      "execution_count": null,
      "outputs": []
    },
    {
      "cell_type": "code",
      "source": [
        "#Yapay Sinir Ağı Modeli\n",
        "model = tf.keras.models.Sequential([\n",
        "    tf.keras.layers.Dense(16, input_shape=(X_train.shape[1],), activation='tanh'),\n",
        "    tf.keras.layers.Dense(8, activation='tanh'),\n",
        "    tf.keras.layers.Dense(1, activation='sigmoid')\n",
        "])"
      ],
      "metadata": {
        "id": "ZEWOeHwSf_gX"
      },
      "execution_count": null,
      "outputs": []
    },
    {
      "cell_type": "code",
      "source": [
        "model.compile(optimizer='adam', loss='binary_crossentropy', metrics=['accuracy'])"
      ],
      "metadata": {
        "id": "JYfqDWgHgw1Q"
      },
      "execution_count": null,
      "outputs": []
    },
    {
      "cell_type": "code",
      "source": [
        "model.fit(X_train, y_train,\n",
        "          epochs=50,\n",
        "          batch_size=32,\n",
        "          validation_data=(X_test, y_test))"
      ],
      "metadata": {
        "colab": {
          "base_uri": "https://localhost:8080/"
        },
        "id": "6LT4Ovt8jNTz",
        "outputId": "a1af839f-d918-4495-8f19-76ad2922afa7"
      },
      "execution_count": null,
      "outputs": [
        {
          "output_type": "stream",
          "name": "stdout",
          "text": [
            "Epoch 1/50\n",
            "250/250 [==============================] - 1s 3ms/step - loss: 0.5007 - accuracy: 0.7944 - val_loss: 0.4891 - val_accuracy: 0.8035\n",
            "Epoch 2/50\n",
            "250/250 [==============================] - 1s 2ms/step - loss: 0.5009 - accuracy: 0.7944 - val_loss: 0.4888 - val_accuracy: 0.8035\n",
            "Epoch 3/50\n",
            "250/250 [==============================] - 1s 3ms/step - loss: 0.5007 - accuracy: 0.7944 - val_loss: 0.4890 - val_accuracy: 0.8035\n",
            "Epoch 4/50\n",
            "250/250 [==============================] - 1s 4ms/step - loss: 0.5007 - accuracy: 0.7944 - val_loss: 0.4892 - val_accuracy: 0.8035\n",
            "Epoch 5/50\n",
            "250/250 [==============================] - 1s 4ms/step - loss: 0.5006 - accuracy: 0.7944 - val_loss: 0.4890 - val_accuracy: 0.8035\n",
            "Epoch 6/50\n",
            "250/250 [==============================] - 1s 3ms/step - loss: 0.5007 - accuracy: 0.7944 - val_loss: 0.4893 - val_accuracy: 0.8035\n",
            "Epoch 7/50\n",
            "250/250 [==============================] - 1s 3ms/step - loss: 0.5007 - accuracy: 0.7944 - val_loss: 0.4897 - val_accuracy: 0.8035\n",
            "Epoch 8/50\n",
            "250/250 [==============================] - 1s 3ms/step - loss: 0.5007 - accuracy: 0.7944 - val_loss: 0.4917 - val_accuracy: 0.8035\n",
            "Epoch 9/50\n",
            "250/250 [==============================] - 1s 4ms/step - loss: 0.5009 - accuracy: 0.7944 - val_loss: 0.4890 - val_accuracy: 0.8035\n",
            "Epoch 10/50\n",
            "250/250 [==============================] - 1s 3ms/step - loss: 0.5007 - accuracy: 0.7944 - val_loss: 0.4894 - val_accuracy: 0.8035\n",
            "Epoch 11/50\n",
            "250/250 [==============================] - 1s 3ms/step - loss: 0.5007 - accuracy: 0.7944 - val_loss: 0.4897 - val_accuracy: 0.8035\n",
            "Epoch 12/50\n",
            "250/250 [==============================] - 1s 2ms/step - loss: 0.5009 - accuracy: 0.7944 - val_loss: 0.4890 - val_accuracy: 0.8035\n",
            "Epoch 13/50\n",
            "250/250 [==============================] - 1s 4ms/step - loss: 0.5004 - accuracy: 0.7944 - val_loss: 0.4888 - val_accuracy: 0.8035\n",
            "Epoch 14/50\n",
            "250/250 [==============================] - 1s 4ms/step - loss: 0.5010 - accuracy: 0.7944 - val_loss: 0.4888 - val_accuracy: 0.8035\n",
            "Epoch 15/50\n",
            "250/250 [==============================] - 1s 2ms/step - loss: 0.5007 - accuracy: 0.7944 - val_loss: 0.4896 - val_accuracy: 0.8035\n",
            "Epoch 16/50\n",
            "250/250 [==============================] - 1s 2ms/step - loss: 0.5008 - accuracy: 0.7944 - val_loss: 0.4895 - val_accuracy: 0.8035\n",
            "Epoch 17/50\n",
            "250/250 [==============================] - 1s 2ms/step - loss: 0.5007 - accuracy: 0.7944 - val_loss: 0.4892 - val_accuracy: 0.8035\n",
            "Epoch 18/50\n",
            "250/250 [==============================] - 1s 2ms/step - loss: 0.5008 - accuracy: 0.7944 - val_loss: 0.4891 - val_accuracy: 0.8035\n",
            "Epoch 19/50\n",
            "250/250 [==============================] - 1s 2ms/step - loss: 0.5009 - accuracy: 0.7944 - val_loss: 0.4893 - val_accuracy: 0.8035\n",
            "Epoch 20/50\n",
            "250/250 [==============================] - 1s 2ms/step - loss: 0.5006 - accuracy: 0.7944 - val_loss: 0.4898 - val_accuracy: 0.8035\n",
            "Epoch 21/50\n",
            "250/250 [==============================] - 1s 2ms/step - loss: 0.5008 - accuracy: 0.7944 - val_loss: 0.4895 - val_accuracy: 0.8035\n",
            "Epoch 22/50\n",
            "250/250 [==============================] - 1s 4ms/step - loss: 0.5008 - accuracy: 0.7944 - val_loss: 0.4899 - val_accuracy: 0.8035\n",
            "Epoch 23/50\n",
            "250/250 [==============================] - 1s 2ms/step - loss: 0.5007 - accuracy: 0.7944 - val_loss: 0.4889 - val_accuracy: 0.8035\n",
            "Epoch 24/50\n",
            "250/250 [==============================] - 1s 2ms/step - loss: 0.5008 - accuracy: 0.7944 - val_loss: 0.4896 - val_accuracy: 0.8035\n",
            "Epoch 25/50\n",
            "250/250 [==============================] - 1s 2ms/step - loss: 0.5008 - accuracy: 0.7944 - val_loss: 0.4892 - val_accuracy: 0.8035\n",
            "Epoch 26/50\n",
            "250/250 [==============================] - 1s 3ms/step - loss: 0.5008 - accuracy: 0.7944 - val_loss: 0.4892 - val_accuracy: 0.8035\n",
            "Epoch 27/50\n",
            "250/250 [==============================] - 1s 3ms/step - loss: 0.5007 - accuracy: 0.7944 - val_loss: 0.4888 - val_accuracy: 0.8035\n",
            "Epoch 28/50\n",
            "250/250 [==============================] - 1s 4ms/step - loss: 0.5009 - accuracy: 0.7944 - val_loss: 0.4889 - val_accuracy: 0.8035\n",
            "Epoch 29/50\n",
            "250/250 [==============================] - 1s 3ms/step - loss: 0.5007 - accuracy: 0.7944 - val_loss: 0.4899 - val_accuracy: 0.8035\n",
            "Epoch 30/50\n",
            "250/250 [==============================] - 1s 3ms/step - loss: 0.5008 - accuracy: 0.7944 - val_loss: 0.4892 - val_accuracy: 0.8035\n",
            "Epoch 31/50\n",
            "250/250 [==============================] - 1s 3ms/step - loss: 0.5008 - accuracy: 0.7944 - val_loss: 0.4898 - val_accuracy: 0.8035\n",
            "Epoch 32/50\n",
            "250/250 [==============================] - 1s 3ms/step - loss: 0.5007 - accuracy: 0.7944 - val_loss: 0.4897 - val_accuracy: 0.8035\n",
            "Epoch 33/50\n",
            "250/250 [==============================] - 1s 4ms/step - loss: 0.5008 - accuracy: 0.7944 - val_loss: 0.4896 - val_accuracy: 0.8035\n",
            "Epoch 34/50\n",
            "250/250 [==============================] - 1s 4ms/step - loss: 0.5007 - accuracy: 0.7944 - val_loss: 0.4889 - val_accuracy: 0.8035\n",
            "Epoch 35/50\n",
            "250/250 [==============================] - 1s 2ms/step - loss: 0.5007 - accuracy: 0.7944 - val_loss: 0.4889 - val_accuracy: 0.8035\n",
            "Epoch 36/50\n",
            "250/250 [==============================] - 1s 2ms/step - loss: 0.5009 - accuracy: 0.7944 - val_loss: 0.4897 - val_accuracy: 0.8035\n",
            "Epoch 37/50\n",
            "250/250 [==============================] - 1s 2ms/step - loss: 0.5005 - accuracy: 0.7944 - val_loss: 0.4900 - val_accuracy: 0.8035\n",
            "Epoch 38/50\n",
            "250/250 [==============================] - 1s 2ms/step - loss: 0.5007 - accuracy: 0.7944 - val_loss: 0.4891 - val_accuracy: 0.8035\n",
            "Epoch 39/50\n",
            "250/250 [==============================] - 1s 3ms/step - loss: 0.5008 - accuracy: 0.7944 - val_loss: 0.4896 - val_accuracy: 0.8035\n",
            "Epoch 40/50\n",
            "250/250 [==============================] - 1s 2ms/step - loss: 0.5006 - accuracy: 0.7944 - val_loss: 0.4888 - val_accuracy: 0.8035\n",
            "Epoch 41/50\n",
            "250/250 [==============================] - 1s 2ms/step - loss: 0.5006 - accuracy: 0.7944 - val_loss: 0.4894 - val_accuracy: 0.8035\n",
            "Epoch 42/50\n",
            "250/250 [==============================] - 1s 2ms/step - loss: 0.5005 - accuracy: 0.7944 - val_loss: 0.4890 - val_accuracy: 0.8035\n",
            "Epoch 43/50\n",
            "250/250 [==============================] - 1s 3ms/step - loss: 0.5006 - accuracy: 0.7944 - val_loss: 0.4894 - val_accuracy: 0.8035\n",
            "Epoch 44/50\n",
            "250/250 [==============================] - 1s 4ms/step - loss: 0.5004 - accuracy: 0.7944 - val_loss: 0.4891 - val_accuracy: 0.8035\n",
            "Epoch 45/50\n",
            "250/250 [==============================] - 1s 4ms/step - loss: 0.5006 - accuracy: 0.7944 - val_loss: 0.4900 - val_accuracy: 0.8035\n",
            "Epoch 46/50\n",
            "250/250 [==============================] - 1s 3ms/step - loss: 0.5006 - accuracy: 0.7944 - val_loss: 0.4897 - val_accuracy: 0.8035\n",
            "Epoch 47/50\n",
            "250/250 [==============================] - 1s 2ms/step - loss: 0.5006 - accuracy: 0.7944 - val_loss: 0.4898 - val_accuracy: 0.8035\n",
            "Epoch 48/50\n",
            "250/250 [==============================] - 1s 2ms/step - loss: 0.5007 - accuracy: 0.7944 - val_loss: 0.4893 - val_accuracy: 0.8035\n",
            "Epoch 49/50\n",
            "250/250 [==============================] - 1s 2ms/step - loss: 0.5008 - accuracy: 0.7944 - val_loss: 0.4893 - val_accuracy: 0.8035\n",
            "Epoch 50/50\n",
            "250/250 [==============================] - 1s 3ms/step - loss: 0.5007 - accuracy: 0.7944 - val_loss: 0.4890 - val_accuracy: 0.8035\n"
          ]
        },
        {
          "output_type": "execute_result",
          "data": {
            "text/plain": [
              "<keras.src.callbacks.History at 0x791b5445e620>"
            ]
          },
          "metadata": {},
          "execution_count": 23
        }
      ]
    },
    {
      "cell_type": "code",
      "source": [
        "y_pred_proba = model.predict(X_test)\n",
        "y_pred = (y_pred_proba > 0.5).astype(int)"
      ],
      "metadata": {
        "colab": {
          "base_uri": "https://localhost:8080/"
        },
        "id": "cGcurSFbk7YK",
        "outputId": "b3a7885d-bfe1-4b86-b27c-caa0848773dc"
      },
      "execution_count": null,
      "outputs": [
        {
          "output_type": "stream",
          "name": "stdout",
          "text": [
            "63/63 [==============================] - 0s 2ms/step\n"
          ]
        }
      ]
    },
    {
      "cell_type": "code",
      "source": [
        "from sklearn.metrics import accuracy_score, precision_score, recall_score, f1_score, confusion_matrix, classification_report\n",
        "accuracy = accuracy_score(y_test, y_pred)\n",
        "print(\"Accuracy: \", accuracy)\n",
        "precision = precision_score(y_test, y_pred, average=\"weighted\")\n",
        "print(\"Precision: \", precision)\n",
        "recall = recall_score(y_test, y_pred, average=\"weighted\")\n",
        "print(\"Recall: \", recall)"
      ],
      "metadata": {
        "colab": {
          "base_uri": "https://localhost:8080/"
        },
        "id": "xQsPHjhelQiQ",
        "outputId": "e9ceed4f-97c2-47fd-8c8f-5f23078de518"
      },
      "execution_count": null,
      "outputs": [
        {
          "output_type": "stream",
          "name": "stdout",
          "text": [
            "Accuracy:  0.8035\n",
            "Precision:  0.64561225\n",
            "Recall:  0.8035\n"
          ]
        },
        {
          "output_type": "stream",
          "name": "stderr",
          "text": [
            "/usr/local/lib/python3.10/dist-packages/sklearn/metrics/_classification.py:1344: UndefinedMetricWarning: Precision is ill-defined and being set to 0.0 in labels with no predicted samples. Use `zero_division` parameter to control this behavior.\n",
            "  _warn_prf(average, modifier, msg_start, len(result))\n"
          ]
        }
      ]
    },
    {
      "cell_type": "code",
      "source": [
        "f1 = f1_score(y_test, y_pred, average=\"weighted\")\n",
        "print(\"F1: \", f1)"
      ],
      "metadata": {
        "colab": {
          "base_uri": "https://localhost:8080/"
        },
        "id": "zKKMVYXIlhzA",
        "outputId": "8906dc14-466e-4a26-a554-897d551604c5"
      },
      "execution_count": null,
      "outputs": [
        {
          "output_type": "stream",
          "name": "stdout",
          "text": [
            "F1:  0.7159548100914886\n"
          ]
        }
      ]
    },
    {
      "cell_type": "code",
      "source": [
        "print(classification_report(y_test, y_pred))"
      ],
      "metadata": {
        "colab": {
          "base_uri": "https://localhost:8080/"
        },
        "id": "sl7-09mNmaBH",
        "outputId": "24b1a7a7-8d74-4277-8922-ce7e6cce543d"
      },
      "execution_count": null,
      "outputs": [
        {
          "output_type": "stream",
          "name": "stdout",
          "text": [
            "              precision    recall  f1-score   support\n",
            "\n",
            "           0       0.80      1.00      0.89      1607\n",
            "           1       0.00      0.00      0.00       393\n",
            "\n",
            "    accuracy                           0.80      2000\n",
            "   macro avg       0.40      0.50      0.45      2000\n",
            "weighted avg       0.65      0.80      0.72      2000\n",
            "\n"
          ]
        },
        {
          "output_type": "stream",
          "name": "stderr",
          "text": [
            "/usr/local/lib/python3.10/dist-packages/sklearn/metrics/_classification.py:1344: UndefinedMetricWarning: Precision and F-score are ill-defined and being set to 0.0 in labels with no predicted samples. Use `zero_division` parameter to control this behavior.\n",
            "  _warn_prf(average, modifier, msg_start, len(result))\n",
            "/usr/local/lib/python3.10/dist-packages/sklearn/metrics/_classification.py:1344: UndefinedMetricWarning: Precision and F-score are ill-defined and being set to 0.0 in labels with no predicted samples. Use `zero_division` parameter to control this behavior.\n",
            "  _warn_prf(average, modifier, msg_start, len(result))\n",
            "/usr/local/lib/python3.10/dist-packages/sklearn/metrics/_classification.py:1344: UndefinedMetricWarning: Precision and F-score are ill-defined and being set to 0.0 in labels with no predicted samples. Use `zero_division` parameter to control this behavior.\n",
            "  _warn_prf(average, modifier, msg_start, len(result))\n"
          ]
        }
      ]
    }
  ]
}